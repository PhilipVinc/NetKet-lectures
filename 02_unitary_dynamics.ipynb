{
 "cells": [
  {
   "cell_type": "markdown",
   "metadata": {},
   "source": [
    "# Unitary Quantum Dynamics with Neural networks\n",
    "Filippo Vicentini\n",
    "\n",
    "7 December 2021\n",
    "\n",
    "\n",
    "[![Open in Colab](https://colab.research.google.com/assets/colab-badge.svg)](https://colab.research.google.com/github/PhilipVinc/NetKet-lectures/blob/master/02_unitary_dynamics.ipynb)\n",
    "\n"
   ]
  },
  {
   "cell_type": "markdown",
   "metadata": {},
   "source": [
    "We want to solve the Schroedinger's equation of motion given an initial state $\\psi(t_0)$\n",
    "\n",
    "$$\n",
    "\\frac{d\\vert\\psi(t)\\rangle}{dt} = -i\\hat{H}\\vert\\psi(t)\\rangle\n",
    "$$\n",
    "\n",
    "To avoid the lengthy derivation of the Time-Dependent Variational-Principle (TDVP) we\n",
    "recall that the variational reformulation of imaginary time evolution, given by the ODE:\n",
    "\n",
    "$$\n",
    "\\frac{d\\vert\\psi(t)\\rangle}{d\\tau} = \\hat{H}\\vert\\psi(t)\\rangle\n",
    "$$\n",
    "where the real time has been replaced by $\\tau=it$, is given by the Stochastic-Reconfiguration\n",
    "method, where the update of the variational parameters is given by the solution to the\n",
    "linear system\n",
    "$$\n",
    "\\Delta W = -d\\tau S^{-1} \\vec{F}\n",
    "$$\n",
    "\n",
    "where $\\Delta W$ are the updates during a timestep of the parameters $W$, and where the gradient is:\n",
    "$$\n",
    "\\vec{F^j} = \\langle O^j E^\\text{loc}\\rangle = \\frac{1}{N}\\sum_\\sigma^N \\left(O^{\\star i}(\\sigma)O^j(\\sigma) - \\langle O^j\\rangle\\right) \\left(E^\\text{loc}(\\sigma) - \\langle E^\\text{loc} \\rangle \\right)\n",
    "$$\n",
    "And the S matrix is:\n",
    "$$\n",
    "\\langle S_i^j \\rangle = \\frac{1}{N}\\sum_\\sigma^N \\left(O^i(\\sigma) - \\langle O^i \\rangle\\right)^\\star\\left(O^j(\\sigma) - \\langle O^i \\rangle\\right)\n",
    "$$\n",
    "\n",
    "Therefore, it is possible to show that the TDVP requires the solution of the equation\n",
    "\n",
    "$$\n",
    "\\Delta W = -iS\\vec{F}\n",
    "$$\n",
    "\n",
    "Netket, unfortunately, does not support this out of the box, but we can't write it\n",
    "ourselves quite easily\n",
    "\n",
    "## Setting up the initial state\n",
    "The ansatz we want to work with is the Neural Quantum State, or Restricted Boltzmann\n",
    "Machine ansatz that we have first seen yesterday.\n",
    "$$\n",
    "\\log\\psi(\\sigma^1, \\sigma^2, \\dots, \\sigma^L) = \\sum_i\\log\\cosh\\left(\\sum_jW^{(i)}_j\\sigma^j  + b^j\\right)\n",
    "$$\n",
    "Notice that if the parameters $\\{W,b\\}$ are real-valued, then $\\log\\psi$will be real valued, and if they\n",
    "are complex-valued, the wavefunction will be complex-valued.\n",
    "\n",
    "Yesterday we were working with real parameters, that is, $W^i_j\\in\\mathbb{R}$ and $b^j\\in mathbb{R}.\n",
    "That was legit because the Hamiltonian of the Transverse-Ising model is real, so\n",
    "we knew that we groundstate wavefunction would have been real.\n",
    "\n",
    "However, today we want to time-evolve the system. So we must give the ansatz the\n",
    "freedom to represent any possible state. Therefore we need to use complex-valued\n",
    "parameters.\n",
    "\n",
    "We now need to define the initial state.\n",
    "If you just initialise a Neural-Quantum-State with random parameters, you will have\n",
    "a very random state.\n",
    "\n",
    "Therefore, in order to have a physically-interesting state, we will use the variational optimisation\n",
    "described yesterday in order to find the ground state of a certain hamiltonian.\n",
    "When this state has been found, we will move forward to time-integrating the Schroedinger's equation.\n",
    "\n",
    "Notice that we will be optimising the state at $g=0.5$ this time, which\n",
    "we expect to be much easier to optimise.\n",
    "\n"
   ]
  },
  {
   "cell_type": "code",
   "execution_count": 1,
   "metadata": {},
   "outputs": [],
   "source": [
    "# First, let's make sure to run on CPU\n",
    "import os\n",
    "os.environ[\"JAX_PLATFORM_NAME\"] = \"cpu\"\n"
   ]
  },
  {
   "cell_type": "markdown",
   "metadata": {},
   "source": [
    "\n"
   ]
  },
  {
   "cell_type": "markdown",
   "metadata": {},
   "source": [
    "First, we want to setup our system and the variational state on it"
   ]
  },
  {
   "cell_type": "code",
   "execution_count": 2,
   "metadata": {},
   "outputs": [],
   "source": [
    "import netket as nk\n",
    "\n",
    "# Define the lattice: Chains of 12 sites with PBC\n",
    "graph = nk.graph.Hypercube(12, n_dim=1, pbc=True)\n",
    "\n",
    "# Define the hilbert space of wavefunction son this lattice\n",
    "hilb = nk.hilbert.Spin(1/2, N=graph.n_nodes)\n",
    "\n",
    "# define the Neural Network ånsatz\n",
    "machine = nk.models.RBM(alpha=1, dtype=complex)\n",
    "\n",
    "# define the MC sampler\n",
    "sampler = nk.sampler.MetropolisLocal(hilb, n_chains=16, n_sweeps=graph.n_nodes)\n",
    "\n",
    "# Construct the variational Monte Carlo state by combining the sampler and the neural\n",
    "# network ansatz. We also specify a few options for the sampler.\n",
    "vs = nk.vqs.MCState(sampler, machine, n_samples=3008, n_discard_per_chain=50)"
   ]
  },
  {
   "cell_type": "markdown",
   "metadata": {},
   "source": [
    "The state we initialised has random parameters (so it's a random wavefunction, most likely pretty flat).\n",
    "Since the hilbert space is small enough, we can plot it!"
   ]
  },
  {
   "cell_type": "code",
   "execution_count": 3,
   "metadata": {},
   "outputs": [
    {
     "data": {
      "text/plain": [
       "<matplotlib.legend.Legend at 0x7fa6806ff3d0>"
      ]
     },
     "execution_count": 3,
     "metadata": {},
     "output_type": "execute_result"
    },
    {
     "data": {
      "image/png": "[encoded data removed]",
      "text/plain": [
       "<Figure size 432x288 with 1 Axes>"
      ]
     },
     "metadata": {
      "needs_background": "light"
     },
     "output_type": "display_data"
    }
   ],
   "source": [
    "from matplotlib import pyplot as plt\n",
    "\n",
    "plt.plot(vs.to_array().real, label=\"$\\Re[\\psi(\\sigma)]$\")\n",
    "plt.plot(vs.to_array().imag, label=\"$\\Im[\\psi(\\sigma)]$\")\n",
    "plt.legend()"
   ]
  },
  {
   "cell_type": "markdown",
   "metadata": {},
   "source": [
    "But we want to start from a specific state.\n",
    "As we don't know which parameters correspond to the state that we want, but we do know that a specific hamiltonian has the state we want as ground state, we can run a ground-state optimisation to find the good parameters.\n",
    "\n",
    "For the Ground-state optimisation we take the TFIM model with $h=0.5$, and we use Natural Gradient descent (or Stochastic Reconfiguration, as it's known in VMC literature)."
   ]
  },
  {
   "cell_type": "code",
   "execution_count": 4,
   "metadata": {
    "autoscroll": "auto",
    "collapsed": false,
    "jupyter": {
     "outputs_hidden": false
    },
    "options": {
     "caption": false,
     "complete": true,
     "display_data": true,
     "display_stream": true,
     "dpi": 200,
     "echo": true,
     "evaluate": false,
     "f_env": null,
     "f_pos": "htpb",
     "f_size": [
      6,
      4
     ],
     "f_spines": true,
     "fig": true,
     "include": true,
     "name": null,
     "option_string": "source='code/2_gs.py', evaluate=False",
     "results": "verbatim",
     "source": "code/2_gs.py",
     "term": false,
     "wrap": "output"
    }
   },
   "outputs": [
    {
     "name": "stderr",
     "output_type": "stream",
     "text": [
      "100%|██████████| 300/300 [00:54<00:00,  5.50it/s, Energy=-12.76261-0.00007j ± 0.00059 [σ²=0.00105, R̂=0.9993]]\n"
     ]
    }
   ],
   "source": [
    "from netket.operator.spin import sigmax\n",
    "\n",
    "# Define the Hamiltonian\n",
    "H = nk.operator.Ising(hilb, graph=graph, h=0.5, J=1.0)\n",
    "\n",
    "# Define an observable\n",
    "Mx = (1/graph.n_nodes) * sum([sigmax(hilb, i) for i in graph.nodes()])\n",
    "\n",
    "# The optimiser\n",
    "op = nk.optimizer.Sgd(learning_rate=0.05)\n",
    "\n",
    "# preconditioner for the optimiser (induces imaginary time evolution)\n",
    "sr = nk.optimizer.SR(diag_shift=0.001)\n",
    "\n",
    "# Create the optimization driver\n",
    "gs = nk.VMC(H, op, preconditioner=sr, variational_state=vs)\n",
    "\n",
    "logger = nk.logging.JsonLog(\"data/rbm1_sr_05\")\n",
    "                            \n",
    "# Run 300 steps of SR optimisation, computing Mx observable\n",
    "gs.run(300, out=logger, obs={'Mx': Mx}, show_progress=True)\n",
    "\n",
    "# We store the parameters at the end of the optimisation\n",
    "W_gs = vs.parameters"
   ]
  },
  {
   "cell_type": "markdown",
   "metadata": {},
   "source": [
    "\n",
    "We first check that the optimisation was succesfull\n"
   ]
  },
  {
   "cell_type": "code",
   "execution_count": 5,
   "metadata": {
    "autoscroll": "auto",
    "collapsed": false,
    "jupyter": {
     "outputs_hidden": false
    },
    "options": {
     "caption": false,
     "complete": true,
     "display_data": true,
     "display_stream": true,
     "dpi": 200,
     "echo": true,
     "evaluate": true,
     "f_env": null,
     "f_pos": "htpb",
     "f_size": [
      6,
      4
     ],
     "f_spines": true,
     "fig": true,
     "include": true,
     "name": null,
     "option_string": "include=True",
     "results": "verbatim",
     "term": false,
     "wrap": "output"
    }
   },
   "outputs": [
    {
     "data": {
      "text/plain": [
       "Text(0, 0.5, 'Energy $\\\\langle E \\\\rangle$')"
      ]
     },
     "execution_count": 5,
     "metadata": {},
     "output_type": "execute_result"
    },
    {
     "data": {
      "image/png": "[encoded data removed]",
      "text/plain": [
       "<Figure size 432x288 with 1 Axes>"
      ]
     },
     "metadata": {
      "needs_background": "light"
     },
     "output_type": "display_data"
    }
   ],
   "source": [
    "import matplotlib.pyplot as plt\n",
    "\n",
    "# Store the output into a variable\n",
    "res_MF = logger.data\n",
    "\n",
    "fig = plt.figure()\n",
    "ax = fig.add_subplot(1, 1, 1)\n",
    "ax.plot(res_MF['Energy']['iters'], res_MF['Energy']['Mean'].real, label=r'$RBM(\\alpha=1)$')\n",
    "plt.legend()\n",
    "plt.xlabel('Iteration')\n",
    "plt.ylabel(r'Energy $\\langle E \\rangle$')"
   ]
  },
  {
   "cell_type": "markdown",
   "metadata": {},
   "source": [
    "We can also plot the magnetisation along the x direction"
   ]
  },
  {
   "cell_type": "code",
   "execution_count": 6,
   "metadata": {
    "autoscroll": "auto",
    "collapsed": false,
    "jupyter": {
     "outputs_hidden": false
    },
    "options": {
     "caption": false,
     "complete": true,
     "display_data": true,
     "display_stream": true,
     "dpi": 200,
     "echo": false,
     "evaluate": true,
     "f_env": null,
     "f_pos": "htpb",
     "f_size": [
      6,
      4
     ],
     "f_spines": true,
     "fig": true,
     "include": true,
     "name": null,
     "option_string": "include=True, echo=False",
     "results": "verbatim",
     "term": false,
     "wrap": "output"
    }
   },
   "outputs": [
    {
     "data": {
      "text/plain": [
       "Text(0, 0.5, 'Magnetization $\\\\langle S_x \\\\rangle$')"
      ]
     },
     "execution_count": 6,
     "metadata": {},
     "output_type": "execute_result"
    },
    {
     "data": {
      "image/png": "[encoded data removed]",
      "text/plain": [
       "<Figure size 432x288 with 1 Axes>"
      ]
     },
     "metadata": {
      "needs_background": "light"
     },
     "output_type": "display_data"
    }
   ],
   "source": [
    "fig = plt.figure()\n",
    "ax = fig.add_subplot(1, 1, 1)\n",
    "ax.plot(res_MF['Mx'].iters, res_MF['Mx'].Mean.real, label=r'$RBM(\\alpha=1)$')\n",
    "plt.legend()\n",
    "plt.xlabel('Iteration')\n",
    "plt.ylabel(r'Magnetization $\\langle S_x \\rangle$')"
   ]
  },
  {
   "cell_type": "markdown",
   "metadata": {},
   "source": [
    "## Time evolution\n",
    "\n",
    "First, we generate some 'exact' data using QuTiP"
   ]
  },
  {
   "cell_type": "code",
   "execution_count": 7,
   "metadata": {},
   "outputs": [],
   "source": [
    "# We build the new quenched hamiltonian, with g=1.0, under which the system evolves dynamically\n",
    "Ham_quench = nk.operator.Ising(hilb, graph=graph, h=1.0, J=1.0)\n",
    "\n",
    "# We get the initial state and Hamiltonian in qutip-format\n",
    "psi_gs_qutip = vs.to_qobj()\n",
    "Ham_quench_qutip = Ham_quench.to_qobj()\n",
    "Mx_qutip = Mx.to_qobj()"
   ]
  },
  {
   "cell_type": "code",
   "execution_count": 8,
   "metadata": {},
   "outputs": [
    {
     "data": {
      "text/plain": [
       "Text(0, 0.5, 'Magnetization')"
      ]
     },
     "execution_count": 8,
     "metadata": {},
     "output_type": "execute_result"
    },
    {
     "data": {
      "image/png": "[encoded data removed]",
      "text/plain": [
       "<Figure size 432x288 with 1 Axes>"
      ]
     },
     "metadata": {
      "needs_background": "light"
     },
     "output_type": "display_data"
    }
   ],
   "source": [
    "# we import qutip and use it to do the time-evolution\n",
    "import qutip as qt\n",
    "import numpy as np\n",
    "\n",
    "# I define all time-points I will be passing through\n",
    "tvals_exact = np.arange(0.0, 2.0, 0.001)\n",
    "\n",
    "# I use the Schroedinger's equation solver to integrate the Schroedinger's equation\n",
    "# with initial state psi_gs, computing Mx along the time evolution\n",
    "sol = qt.sesolve(Ham_quench_qutip, psi_gs_qutip, tvals_exact, e_ops=[Mx_qutip])\n",
    "\n",
    "# I plot Mx\n",
    "plt.plot(sol.times, sol.expect[0])\n",
    "plt.xlabel('time t')\n",
    "plt.ylabel('Magnetization')"
   ]
  },
  {
   "cell_type": "markdown",
   "metadata": {},
   "source": [
    "We now want to perform the full fledged time evolution with VMC\n",
    "\n",
    "First, we need to define the code to compute the timestep.\n",
    "The things to do are the following:\n",
    "\n",
    " - Estimate the energy, and it's gradient F\n",
    "   - We need to sample the wavefunction first, but that's done automatically by NetKet\n",
    " - Compute the S matrix\n",
    "   - Also done automatically by netket. We call it QGT, or Quantum Geometric Tensor, and you can easily access it.\n",
    " - solve the syste $\\Delta W = -i S \\vec{F}$\n",
    "\n",
    "So we define a function named `timestep` which takes as inputs:\n",
    " - The variational state\n",
    " - The hamiltonian generating the time-evolution\n",
    "\n"
   ]
  },
  {
   "cell_type": "code",
   "execution_count": 9,
   "metadata": {
    "autoscroll": "auto",
    "collapsed": false,
    "jupyter": {
     "outputs_hidden": false
    },
    "options": {
     "caption": false,
     "complete": true,
     "display_data": true,
     "display_stream": true,
     "dpi": 200,
     "echo": true,
     "evaluate": true,
     "f_env": null,
     "f_pos": "htpb",
     "f_size": [
      6,
      4
     ],
     "f_spines": true,
     "fig": true,
     "include": true,
     "name": null,
     "option_string": "include=True, source='code/3_timestep.py'",
     "results": "verbatim",
     "source": "code/3_timestep.py",
     "term": false,
     "wrap": "output"
    }
   },
   "outputs": [],
   "source": [
    "from jax import tree_map\n",
    "\n",
    "def timestep(vstate, hamiltonian, *, diag_shift=1e-4):\n",
    "    # Then we compute ⟨E⟩ and F=∇⟨E⟩\n",
    "    E, F = vstate.expect_and_grad(hamiltonian)\n",
    "\n",
    "    # We multiply every element of the gradient by -1.0j\n",
    "    mF = tree_map(lambda x: -1.0j * x, F)\n",
    "    \n",
    "    # We compute the QGT (or S matrix) of our state\n",
    "    S = vstate.quantum_geometric_tensor()\n",
    "    \n",
    "    # We add a diagonal shift to the QGT\n",
    "    # this is added only to the diagonal.\n",
    "    S = S + diag_shift\n",
    "    \n",
    "    # We solve the linear system\n",
    "    dW, _ = S.solve(jax.scipy.sparse.linalg.cg, mF)\n",
    "    \n",
    "    return dW"
   ]
  },
  {
   "cell_type": "markdown",
   "metadata": {},
   "source": [
    "Then, we use this function to perform the actual time evolution\n"
   ]
  },
  {
   "cell_type": "code",
   "execution_count": 10,
   "metadata": {
    "autoscroll": "auto",
    "collapsed": false,
    "jupyter": {
     "outputs_hidden": false
    },
    "options": {
     "caption": false,
     "complete": true,
     "display_data": true,
     "display_stream": true,
     "dpi": 200,
     "echo": true,
     "evaluate": false,
     "f_env": null,
     "f_pos": "htpb",
     "f_size": [
      6,
      4
     ],
     "f_spines": true,
     "fig": true,
     "include": true,
     "name": null,
     "option_string": "source='code/4_tevo.py', evaluate=False",
     "results": "verbatim",
     "source": "code/4_tevo.py",
     "term": false,
     "wrap": "output"
    }
   },
   "outputs": [
    {
     "name": "stderr",
     "output_type": "stream",
     "text": [
      "100%|██████████| 400/400 [02:47<00:00,  2.39it/s]\n"
     ]
    }
   ],
   "source": [
    "import jax\n",
    "from tqdm import tqdm\n",
    "\n",
    "# We first build the new hamiltonian, with g=1.0\n",
    "Ham_quench = nk.operator.Ising(hilb, graph=graph, h=1.0, J=1.0)\n",
    "\n",
    "# the timestep\n",
    "dt = 0.005\n",
    "\n",
    "# I define some observables to keep track of along the time-evolution\n",
    "res = {'Sx':[]}\n",
    "\n",
    "# I define all time-points I will be passing through\n",
    "tvals = np.arange(0.0, 2.0, dt)\n",
    "\n",
    "# Set the initial cofniguration\n",
    "vs.parameters = W_gs\n",
    "\n",
    "# at every timestep\n",
    "for t in tqdm(tvals):\n",
    "    # (Before evolving): compute the observables\n",
    "    res['Sx'].append(vs.expect(Mx).mean.real)\n",
    "\n",
    "    # We compute the update of the parameters\n",
    "    dw = timestep(vs, Ham_quench, diag_shift=1e-4)\n",
    "    \n",
    "    # We update the parameters\n",
    "    vs.parameters = jax.tree_multimap(lambda w, dw: w+dt*dw, vs.parameters, dw)\n"
   ]
  },
  {
   "cell_type": "markdown",
   "metadata": {},
   "source": [
    "\n",
    "Having performed the time-evoltion, we plot the data:\n"
   ]
  },
  {
   "cell_type": "code",
   "execution_count": 11,
   "metadata": {},
   "outputs": [
    {
     "data": {
      "text/plain": [
       "Text(0, 0.5, 'Magnetization')"
      ]
     },
     "execution_count": 11,
     "metadata": {},
     "output_type": "execute_result"
    },
    {
     "data": {
      "image/png": "[encoded data removed]",
      "text/plain": [
       "<Figure size 432x288 with 1 Axes>"
      ]
     },
     "metadata": {
      "needs_background": "light"
     },
     "output_type": "display_data"
    }
   ],
   "source": [
    "plt.plot(sol.times, sol.expect[0], label='Exact (QuTiP)')\n",
    "plt.plot(tvals, res['Sx'], label=r\"RBM($\\alpha=1$)\")\n",
    "plt.legend()\n",
    "plt.xlabel('time t')\n",
    "plt.ylabel('Magnetization')"
   ]
  },
  {
   "cell_type": "markdown",
   "metadata": {},
   "source": [
    "We notice that it does not look too great.\n",
    "\n",
    "## 3. Increasing the Representation Power\n",
    "\n",
    "We need to increase the representation power of our neural network to better approximate our state during the time-evolution. \n",
    "\n",
    "To do so, we want to change the hidden layer density from 1 to 2, which will approximately double the number of variational parameters."
   ]
  },
  {
   "cell_type": "code",
   "execution_count": 12,
   "metadata": {},
   "outputs": [
    {
     "name": "stdout",
     "output_type": "stream",
     "text": [
      "The RBM(α=1) variational state has 168 parameters\n",
      "The RBM(α=2) variational state has 324 parameters\n"
     ]
    }
   ],
   "source": [
    "# define the Neural Network ånsatz\n",
    "machine2 = nk.models.RBM(alpha=2, dtype=complex)\n",
    "\n",
    "# Construct a new variational state with the new machine\n",
    "vs2 = nk.vqs.MCState(sampler, machine2, n_samples=3008, n_discard_per_chain=50)\n",
    "\n",
    "# Compare the number of parameters\n",
    "print(f\"The RBM(α=1) variational state has {vs.n_parameters} parameters\")\n",
    "print(f\"The RBM(α=2) variational state has {vs2.n_parameters} parameters\")"
   ]
  },
  {
   "cell_type": "markdown",
   "metadata": {},
   "source": [
    "We now need to also optimise the initial state of the new model\n",
    "\n"
   ]
  },
  {
   "cell_type": "code",
   "execution_count": 13,
   "metadata": {},
   "outputs": [
    {
     "name": "stderr",
     "output_type": "stream",
     "text": [
      "100%|██████████| 300/300 [01:26<00:00,  3.46it/s, Energy=-12.7616+0.0003j ± 0.0011 [σ²=0.0036, R̂=0.9993]]    \n"
     ]
    }
   ],
   "source": [
    "# Create the optimization driver\n",
    "gs = nk.VMC(H, op, preconditioner=sr, variational_state=vs2)\n",
    "                            \n",
    "# Run 300 steps of SR optimisation, computing Mx observable\n",
    "log2 = nk.logging.RuntimeLog()\n",
    "gs.run(300, out=log2, obs={'Mx': Mx}, show_progress=True)\n",
    "\n",
    "W_gs2 = vs2.parameters"
   ]
  },
  {
   "cell_type": "markdown",
   "metadata": {},
   "source": [
    "And now that we have the initial parameters of the new ansatz with $\\alpha=2$, we need to perform the new time-evolution.\n",
    "\n",
    "Hopefully, you've already learnt how to write down the TDVP equations above, so we will now showcase the Dynamics driver of NetKet, which essentially integrates the same equatino as the code above does, but is more flexible and comes with a few nice additions.\n",
    "\n",
    "*NOTE*: This is a new feature of NetKet 3.3 (to be released on december 14). Make sure you have an up to date version with `pip install --upgrade netket` and by checking `netket.__version__`). If you want to run this before december 14, then `pip install 'git+https://github.com/netket/netket.git'`. Otherwise, you can just rerun the same code as above!"
   ]
  },
  {
   "cell_type": "code",
   "execution_count": 14,
   "metadata": {},
   "outputs": [
    {
     "name": "stderr",
     "output_type": "stream",
     "text": [
      "100%|█████████▉| 1.9949999999999999/1.995 [01:37<00:00, 48.88s/it, Generator=-14.229-0.011j ± 0.040 [σ²=4.089, R̂=1.0015]]  /home/filippovicentini/Documents/pythonenvs/netket_env/lib64/python3.8/site-packages/tqdm/std.py:533: TqdmWarning: clamping frac to range [0, 1]\n",
      "  full_bar = Bar(frac,\n",
      "100%|██████████| 1.9999999999999998/1.995 [01:37<00:00, 49.00s/it, Generator=-14.229-0.011j ± 0.040 [σ²=4.089, R̂=1.0015]]\n"
     ]
    }
   ],
   "source": [
    "from netket import experimental as nkx\n",
    "\n",
    "# You can pick from many different integrators, with and without adaptive timestepping.\n",
    "# In this example we chose Euler\n",
    "integrator = nkx.dynamics.Euler(dt=dt)\n",
    "\n",
    "# We now construct the TDVP (Time-Dependent-Variational-Principle) driver\n",
    "# Note: The qgt argument takes an argument that specifies how the Quantum Geometric Tensor (or S matrix) should\n",
    "# be computed. This is a purely technical detail, but properly chosing the right implementation will give you\n",
    "# a remarkable speedup! Read more at https://www.netket.org/docs/sr.html\n",
    "te = nkx.TDVP(\n",
    "    Ham_quench, # can also be time-dependent\n",
    "    variational_state=vs2,\n",
    "    integrator=integrator, # RK-style integrator.\n",
    "    t0=0.0,     # initial integration time\n",
    "    qgt=nk.optimizer.qgt.QGTJacobianDense(holomorphic=True, diag_shift=1e-4), # QGT implementation. \n",
    ")\n",
    "\n",
    "# integrate the dynamics\n",
    "tevo2 = nk.logging.RuntimeLog()\n",
    "te.run(\n",
    "    T=tvals[-1], # end time\n",
    "    out=tevo2,   # logger\n",
    "    show_progress=True,\n",
    "    obs={\"Sx\": Mx},\n",
    "    tstops=tvals, # at what timesteps should observables be computed\n",
    ")\n",
    "\n",
    "res2 = tevo2.data"
   ]
  },
  {
   "cell_type": "code",
   "execution_count": 15,
   "metadata": {
    "autoscroll": "auto",
    "collapsed": false,
    "jupyter": {
     "outputs_hidden": false
    },
    "options": {
     "caption": false,
     "complete": true,
     "display_data": true,
     "display_stream": true,
     "dpi": 200,
     "echo": true,
     "evaluate": true,
     "f_env": null,
     "f_pos": "htpb",
     "f_size": [
      6,
      4
     ],
     "f_spines": true,
     "fig": true,
     "include": true,
     "name": null,
     "option_string": "",
     "results": "verbatim",
     "term": false,
     "wrap": "output"
    }
   },
   "outputs": [
    {
     "name": "stderr",
     "output_type": "stream",
     "text": [
      "/home/filippovicentini/Documents/pythonenvs/netket_env/lib64/python3.8/site-packages/numpy/core/_asarray.py:102: ComplexWarning: Casting complex values to real discards the imaginary part\n",
      "  return array(a, dtype, copy=False, order=order)\n"
     ]
    },
    {
     "data": {
      "text/plain": [
       "Text(0, 0.5, 'Magnetization')"
      ]
     },
     "execution_count": 15,
     "metadata": {},
     "output_type": "execute_result"
    },
    {
     "data": {
      "image/png": "[encoded data removed]",
      "text/plain": [
       "<Figure size 432x288 with 1 Axes>"
      ]
     },
     "metadata": {
      "needs_background": "light"
     },
     "output_type": "display_data"
    }
   ],
   "source": [
    "plt.plot(sol.times, sol.expect[0], label='Exact (QuTiP)')\n",
    "plt.plot(tvals, res['Sx'], label=r\"RBM($\\alpha=1$)\")\n",
    "plt.plot(tvals, res2['Sx'], label=r\"RBM($\\alpha=2$)\")\n",
    "plt.legend()\n",
    "plt.xlabel('time t')\n",
    "plt.ylabel('Magnetization')"
   ]
  },
  {
   "cell_type": "code",
   "execution_count": null,
   "metadata": {},
   "outputs": [],
   "source": []
  },
  {
   "cell_type": "code",
   "execution_count": null,
   "metadata": {
    "autoscroll": "auto",
    "collapsed": false,
    "jupyter": {
     "outputs_hidden": false
    },
    "options": {
     "caption": false,
     "complete": true,
     "display_data": true,
     "display_stream": true,
     "dpi": 200,
     "echo": true,
     "evaluate": false,
     "f_env": null,
     "f_pos": "htpb",
     "f_size": [
      6,
      4
     ],
     "f_spines": true,
     "fig": true,
     "include": true,
     "name": null,
     "option_string": "evaluate=False",
     "results": "verbatim",
     "term": false,
     "wrap": "output"
    }
   },
   "outputs": [],
   "source": [
    "sampler_obs = nk.sampler.MetropolisLocal(machine=machine.diagonal())"
   ]
  },
  {
   "cell_type": "markdown",
   "metadata": {},
   "source": [
    "\n",
    "### Putting everything together\n",
    "If we collate all the things you have seen above, and run the optimisation, we get:\n",
    "\n"
   ]
  },
  {
   "cell_type": "code",
   "execution_count": null,
   "metadata": {
    "autoscroll": "auto",
    "collapsed": false,
    "jupyter": {
     "outputs_hidden": false
    },
    "options": {
     "caption": false,
     "complete": true,
     "display_data": true,
     "display_stream": true,
     "dpi": 200,
     "echo": true,
     "evaluate": false,
     "f_env": null,
     "f_pos": "htpb",
     "f_size": [
      6,
      4
     ],
     "f_spines": true,
     "fig": true,
     "include": true,
     "name": null,
     "option_string": "source='code/5_open.py', evaluate=False, echo=True",
     "results": "verbatim",
     "source": "code/5_open.py",
     "term": false,
     "wrap": "output"
    }
   },
   "outputs": [],
   "source": [
    "import netket as nk\n",
    "import jax\n",
    "\n",
    "L = 6\n",
    "H = build_hamiltonian(L=L, g=-0.49/2, J=0.25)\n",
    "Sx = build_Sx(L=L)\n",
    "Sy = build_Sy(L=L)\n",
    "Sz = build_Sz(L=L)\n",
    "\n",
    "# Generate the list of collapse/jump operators:\n",
    "jump_ops = []\n",
    "for i in range(L):\n",
    "    op = nk.operator.spin.sigmam(H.hilbert, i)\n",
    "    jump_ops.append(op)\n",
    "\n",
    "# Construct the Lindblad Super-Operator\n",
    "lindblad = nk.operator.LocalLiouvillian(H, jump_ops)\n",
    "\n",
    "# Construct the machine and initialise it's parameters\n",
    "machine = nk.machine.density_matrix.NdmSpin(hilbert=H.hilbert, alpha=1, beta=2)\n",
    "machine.init_random_parameters(sigma=0.01, seed=123)\n",
    "\n",
    "# Sampler for the machine\n",
    "sampler = nk.sampler.MetropolisLocal(machine, n_chains=16, sweep_size=2*L)\n",
    "# Sampler of the diagonal of the density matrix, for the observables\n",
    "sampler_obs = nk.sampler.MetropolisLocal(machine=machine.diagonal())\n",
    "\n",
    "optimizer = nk.optimizer.Sgd(machine, 0.01)\n",
    "sr = nk.optimizer.SR(machine, diag_shift=0.001, use_iterative=True)\n",
    "\n",
    "# Construct the object looking for the steady state\n",
    "ss = nk.SteadyState(lindblad, sampler, optimizer, n_samples=1000,\n",
    "                    sampler_obs=sampler_obs, n_samples_obs=500)\n",
    "\n",
    "# Run the optimisation\n",
    "ss.run(n_iter=300, out=\"data/open_ndm12_3\", obs={'Sx':Sx, 'Sy': Sy, 'Sz':Sz})\n",
    "\n"
   ]
  },
  {
   "cell_type": "markdown",
   "metadata": {},
   "source": [
    "\n",
    "And if we plot the results:\n",
    "\n"
   ]
  },
  {
   "cell_type": "code",
   "execution_count": null,
   "metadata": {
    "autoscroll": "auto",
    "collapsed": false,
    "jupyter": {
     "outputs_hidden": false
    },
    "options": {
     "caption": false,
     "complete": true,
     "display_data": true,
     "display_stream": true,
     "dpi": 200,
     "echo": true,
     "evaluate": true,
     "f_env": null,
     "f_pos": "htpb",
     "f_size": [
      6,
      4
     ],
     "f_spines": true,
     "fig": true,
     "include": true,
     "name": null,
     "option_string": "",
     "results": "verbatim",
     "term": false,
     "wrap": "output"
    }
   },
   "outputs": [],
   "source": [
    "ss = read_open('data/open_ndm11')\n",
    "\n",
    "fig, ax = plt.subplots(4)\n",
    "\n",
    "ax[0].plot(ss['iter'], ss['LdagL'])\n",
    "ax[0].get_xaxis().set_visible(False)\n",
    "ax[0].set(ylabel='LdagL')\n",
    "ax[1].plot(ss['iter'], ss['Sx'])\n",
    "ax[1].get_xaxis().set_visible(False)\n",
    "ax[1].set(ylabel='Sx')\n",
    "ax[2].plot(ss['iter'], ss['Sy'])\n",
    "ax[2].get_xaxis().set_visible(False)\n",
    "ax[2].set(ylabel='Sy')\n",
    "ax[3].plot(ss['iter'], ss['Sz'])\n",
    "ax[3].set(ylabel='Sz')\n",
    "\n",
    "plt.legend()\n",
    "plt.xlabel('Iteration step')\n",
    "plt.ylabel('Magnetization')"
   ]
  },
  {
   "cell_type": "markdown",
   "metadata": {},
   "source": []
  }
 ],
 "metadata": {
  "kernel_info": {
   "name": "python3"
  },
  "kernelspec": {
   "display_name": "Python (Netket development)",
   "language": "python",
   "name": "dev-netket"
  },
  "language_info": {
   "codemirror_mode": {
    "name": "ipython",
    "version": 3
   },
   "file_extension": ".py",
   "mimetype": "text/x-python",
   "name": "python",
   "nbconvert_exporter": "python",
   "pygments_lexer": "ipython3",
   "version": "3.9.7"
  }
 },
 "nbformat": 4,
 "nbformat_minor": 4
}
